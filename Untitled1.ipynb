{
 "cells": [
  {
   "cell_type": "code",
   "execution_count": 2,
   "id": "2764ab83",
   "metadata": {},
   "outputs": [],
   "source": [
    "import pandas as pd\n",
    "import numpy as np\n",
    "import tensorflow as tf\n",
    "from tensorflow.keras.preprocessing.image import ImageDataGenerator\n",
    "from keras.preprocessing import image\n",
    "import os\n",
    "from sklearn.model_selection import train_test_split\n"
   ]
  },
  {
   "cell_type": "code",
   "execution_count": 3,
   "id": "4b86c18a",
   "metadata": {},
   "outputs": [
    {
     "name": "stdout",
     "output_type": "stream",
     "text": [
      "Found 2864 images belonging to 20 classes.\n"
     ]
    }
   ],
   "source": [
    "train_datagen = ImageDataGenerator(rescale = 1./255,\n",
    "                                   shear_range = 0.2,\n",
    "                                   zoom_range = 0.2,\n",
    "                                   horizontal_flip = True)\n",
    "training_set = train_datagen.flow_from_directory('C:/Users/Admin/Desktop/streamlit/images',\n",
    "                                                 target_size = (64, 64),\n",
    "                                                 batch_size = 32,\n",
    "                                                 class_mode = 'categorical')\n",
    "\n",
    "\n",
    "# C:\\Users\\2811y\\OneDrive\\Desktop\\artworks1\\artworks2\\images\\images"
   ]
  },
  {
   "cell_type": "code",
   "execution_count": 4,
   "id": "582173f2",
   "metadata": {},
   "outputs": [
    {
     "name": "stdout",
     "output_type": "stream",
     "text": [
      "Found 547 images belonging to 20 classes.\n"
     ]
    }
   ],
   "source": [
    "test_datagen = ImageDataGenerator(rescale = 1./255)\n",
    "test_set = test_datagen.flow_from_directory('C:/Users/Admin/Desktop/streamlit/test',\n",
    "                                            target_size = (64, 64),\n",
    "                                            batch_size = 32,\n",
    "                                            class_mode = 'categorical')"
   ]
  },
  {
   "cell_type": "code",
   "execution_count": 5,
   "id": "cfacc81a",
   "metadata": {
    "scrolled": true
   },
   "outputs": [],
   "source": [
    "cnn=tf.keras.models.Sequential()\n",
    "cnn.add(tf.keras.layers.Conv2D(filters=32,kernel_size=3,activation='relu',input_shape=[64, 64,3]))\n",
    "cnn.add(tf.keras.layers.MaxPool2D(2,2))\n",
    "cnn.add(tf.keras.layers.Conv2D(filters=32,kernel_size=3,activation='relu',input_shape=[64, 64,3]))\n",
    "cnn.add(tf.keras.layers.MaxPool2D(2,2))\n",
    "# cnn.add(tf.keras.layers.Conv2D(filters=32,kernel_size=3,activation='relu',input_shape=[64, 64,3]))\n",
    "# cnn.add(tf.keras.layers.MaxPool2D(2,2))\n",
    "\n",
    "\n",
    "\n",
    "# from keras.models import Sequential\n",
    "# from keras.layers import Dense, Conv2D, Flatten, MaxPooling2D, Input\n",
    "\n",
    "# model = Sequential([\n",
    "#     Input(shape=input_shape),\n",
    "#     Conv2D(filters=32, kernel_size=(3), activation='relu',input_shape=[64, 64,3]),\n",
    "#     MaxPooling2D(pool_size=(2, 2)),\n",
    "#     Conv2D(filters=32, kernel_size=(3), activation='relu',input_shape=[64, 64,3]),\n",
    "#     MaxPooling2D(pool_size=(2, 2)),\n",
    "#     Flatten(),\n",
    "#     Dense(units=10, activation='softmax')\n",
    "# ])\n",
    "\n"
   ]
  },
  {
   "cell_type": "code",
   "execution_count": 6,
   "id": "214add1b",
   "metadata": {},
   "outputs": [],
   "source": [
    "cnn.add(tf.keras.layers.Flatten())"
   ]
  },
  {
   "cell_type": "code",
   "execution_count": 7,
   "id": "078992a4",
   "metadata": {},
   "outputs": [],
   "source": [
    "cnn.add(tf.keras.layers.Dense(units=20, activation='softmax'))"
   ]
  },
  {
   "cell_type": "code",
   "execution_count": 8,
   "id": "ffe93126",
   "metadata": {},
   "outputs": [],
   "source": [
    "cnn.compile(optimizer = 'adam', loss = 'categorical_crossentropy', metrics = ['accuracy'])"
   ]
  },
  {
   "cell_type": "code",
   "execution_count": 9,
   "id": "ba690ecd",
   "metadata": {},
   "outputs": [
    {
     "name": "stdout",
     "output_type": "stream",
     "text": [
      "Epoch 1/10\n",
      "90/90 [==============================] - 22s 241ms/step - loss: 2.5273 - accuracy: 0.2270 - val_loss: 2.6877 - val_accuracy: 0.1298\n",
      "Epoch 2/10\n",
      "90/90 [==============================] - 21s 230ms/step - loss: 2.1415 - accuracy: 0.3390 - val_loss: 2.5988 - val_accuracy: 0.2797\n",
      "Epoch 3/10\n",
      "90/90 [==============================] - 21s 233ms/step - loss: 1.9540 - accuracy: 0.3907 - val_loss: 2.5581 - val_accuracy: 0.2486\n",
      "Epoch 4/10\n",
      "90/90 [==============================] - 21s 232ms/step - loss: 1.8158 - accuracy: 0.4389 - val_loss: 1.9705 - val_accuracy: 0.3985\n",
      "Epoch 5/10\n",
      "90/90 [==============================] - 21s 231ms/step - loss: 1.6761 - accuracy: 0.4777 - val_loss: 1.8268 - val_accuracy: 0.4168\n",
      "Epoch 6/10\n",
      "90/90 [==============================] - 22s 243ms/step - loss: 1.5992 - accuracy: 0.5094 - val_loss: 1.8105 - val_accuracy: 0.4388\n",
      "Epoch 7/10\n",
      "90/90 [==============================] - 22s 243ms/step - loss: 1.5150 - accuracy: 0.5272 - val_loss: 1.5880 - val_accuracy: 0.5320\n",
      "Epoch 8/10\n",
      "90/90 [==============================] - 19s 208ms/step - loss: 1.4283 - accuracy: 0.5590 - val_loss: 1.6575 - val_accuracy: 0.4790\n",
      "Epoch 9/10\n",
      "90/90 [==============================] - 19s 211ms/step - loss: 1.3607 - accuracy: 0.5765 - val_loss: 1.4990 - val_accuracy: 0.5375\n",
      "Epoch 10/10\n",
      "90/90 [==============================] - 19s 210ms/step - loss: 1.2869 - accuracy: 0.5992 - val_loss: 1.3343 - val_accuracy: 0.5740\n"
     ]
    },
    {
     "data": {
      "text/plain": [
       "<keras.src.callbacks.History at 0x170b801bfa0>"
      ]
     },
     "execution_count": 9,
     "metadata": {},
     "output_type": "execute_result"
    }
   ],
   "source": [
    "cnn.fit(x = training_set, validation_data = test_set, epochs = 10)"
   ]
  },
  {
   "cell_type": "code",
   "execution_count": 10,
   "id": "2d100cc2",
   "metadata": {},
   "outputs": [
    {
     "data": {
      "text/plain": [
       "['model_saved1']"
      ]
     },
     "execution_count": 10,
     "metadata": {},
     "output_type": "execute_result"
    }
   ],
   "source": [
    "import joblib\n",
    "\n",
    "# # Load the model\n",
    "joblib.dump(cnn, 'model_saved1')\n",
    "\n",
    "# # Now you can use the loaded_model for prediction or any other purposes\n",
    "\n",
    "# import dill\n",
    "\n",
    "# # Save the model using dill\n",
    "# with open('model_saved.pkl', 'wb') as f:\n",
    "#     dill.dump(cnn, f)"
   ]
  },
  {
   "cell_type": "code",
   "execution_count": null,
   "id": "8497a656",
   "metadata": {},
   "outputs": [],
   "source": []
  },
  {
   "cell_type": "code",
   "execution_count": null,
   "id": "59d576c7",
   "metadata": {},
   "outputs": [],
   "source": [
    "C:/Users/Admin/Desktop/streamlit/images"
   ]
  },
  {
   "cell_type": "code",
   "execution_count": null,
   "id": "c3c56d90",
   "metadata": {},
   "outputs": [],
   "source": []
  },
  {
   "cell_type": "code",
   "execution_count": 42,
   "id": "447b7420",
   "metadata": {},
   "outputs": [
    {
     "ename": "ValueError",
     "evalue": "Exception encountered when calling Sequential.call().\n\n\u001b[1mInput 0 of layer \"dense_1\" is incompatible with the layer: expected axis -1 of input shape to have value 6272, but received input with shape (1, 93312)\u001b[0m\n\nArguments received by Sequential.call():\n  • inputs=tf.Tensor(shape=(1, 224, 224, 3), dtype=float32)\n  • training=False\n  • mask=None",
     "output_type": "error",
     "traceback": [
      "\u001b[1;31m---------------------------------------------------------------------------\u001b[0m",
      "\u001b[1;31mValueError\u001b[0m                                Traceback (most recent call last)",
      "Cell \u001b[1;32mIn[42], line 6\u001b[0m\n\u001b[0;32m      4\u001b[0m test_image \u001b[38;5;241m=\u001b[39m image\u001b[38;5;241m.\u001b[39mimg_to_array(test_image)\n\u001b[0;32m      5\u001b[0m test_image \u001b[38;5;241m=\u001b[39m np\u001b[38;5;241m.\u001b[39mexpand_dims(test_image, axis \u001b[38;5;241m=\u001b[39m \u001b[38;5;241m0\u001b[39m)\n\u001b[1;32m----> 6\u001b[0m result \u001b[38;5;241m=\u001b[39m \u001b[43mcnn\u001b[49m\u001b[38;5;241;43m.\u001b[39;49m\u001b[43mpredict\u001b[49m\u001b[43m(\u001b[49m\u001b[43mtest_image\u001b[49m\u001b[43m)\u001b[49m\n\u001b[0;32m      7\u001b[0m training_set\u001b[38;5;241m.\u001b[39mclass_indices\n\u001b[0;32m      8\u001b[0m \u001b[38;5;66;03m# print(result)\u001b[39;00m\n\u001b[0;32m      9\u001b[0m \u001b[38;5;66;03m# Assuming you have your prediction vector from the CNN model\u001b[39;00m\n",
      "File \u001b[1;32m~\\AppData\\Local\\Programs\\Python\\Python312\\Lib\\site-packages\\keras\\src\\utils\\traceback_utils.py:123\u001b[0m, in \u001b[0;36mfilter_traceback.<locals>.error_handler\u001b[1;34m(*args, **kwargs)\u001b[0m\n\u001b[0;32m    120\u001b[0m     filtered_tb \u001b[38;5;241m=\u001b[39m _process_traceback_frames(e\u001b[38;5;241m.\u001b[39m__traceback__)\n\u001b[0;32m    121\u001b[0m     \u001b[38;5;66;03m# To get the full stack trace, call:\u001b[39;00m\n\u001b[0;32m    122\u001b[0m     \u001b[38;5;66;03m# `keras.config.disable_traceback_filtering()`\u001b[39;00m\n\u001b[1;32m--> 123\u001b[0m     \u001b[38;5;28;01mraise\u001b[39;00m e\u001b[38;5;241m.\u001b[39mwith_traceback(filtered_tb) \u001b[38;5;28;01mfrom\u001b[39;00m \u001b[38;5;28;01mNone\u001b[39;00m\n\u001b[0;32m    124\u001b[0m \u001b[38;5;28;01mfinally\u001b[39;00m:\n\u001b[0;32m    125\u001b[0m     \u001b[38;5;28;01mdel\u001b[39;00m filtered_tb\n",
      "File \u001b[1;32m~\\AppData\\Local\\Programs\\Python\\Python312\\Lib\\site-packages\\keras\\src\\layers\\input_spec.py:227\u001b[0m, in \u001b[0;36massert_input_compatibility\u001b[1;34m(input_spec, inputs, layer_name)\u001b[0m\n\u001b[0;32m    222\u001b[0m     \u001b[38;5;28;01mfor\u001b[39;00m axis, value \u001b[38;5;129;01min\u001b[39;00m spec\u001b[38;5;241m.\u001b[39maxes\u001b[38;5;241m.\u001b[39mitems():\n\u001b[0;32m    223\u001b[0m         \u001b[38;5;28;01mif\u001b[39;00m value \u001b[38;5;129;01mis\u001b[39;00m \u001b[38;5;129;01mnot\u001b[39;00m \u001b[38;5;28;01mNone\u001b[39;00m \u001b[38;5;129;01mand\u001b[39;00m shape[axis] \u001b[38;5;129;01mnot\u001b[39;00m \u001b[38;5;129;01min\u001b[39;00m {\n\u001b[0;32m    224\u001b[0m             value,\n\u001b[0;32m    225\u001b[0m             \u001b[38;5;28;01mNone\u001b[39;00m,\n\u001b[0;32m    226\u001b[0m         }:\n\u001b[1;32m--> 227\u001b[0m             \u001b[38;5;28;01mraise\u001b[39;00m \u001b[38;5;167;01mValueError\u001b[39;00m(\n\u001b[0;32m    228\u001b[0m                 \u001b[38;5;124mf\u001b[39m\u001b[38;5;124m'\u001b[39m\u001b[38;5;124mInput \u001b[39m\u001b[38;5;132;01m{\u001b[39;00minput_index\u001b[38;5;132;01m}\u001b[39;00m\u001b[38;5;124m of layer \u001b[39m\u001b[38;5;124m\"\u001b[39m\u001b[38;5;132;01m{\u001b[39;00mlayer_name\u001b[38;5;132;01m}\u001b[39;00m\u001b[38;5;124m\"\u001b[39m\u001b[38;5;124m is \u001b[39m\u001b[38;5;124m'\u001b[39m\n\u001b[0;32m    229\u001b[0m                 \u001b[38;5;124mf\u001b[39m\u001b[38;5;124m\"\u001b[39m\u001b[38;5;124mincompatible with the layer: expected axis \u001b[39m\u001b[38;5;132;01m{\u001b[39;00maxis\u001b[38;5;132;01m}\u001b[39;00m\u001b[38;5;124m \u001b[39m\u001b[38;5;124m\"\u001b[39m\n\u001b[0;32m    230\u001b[0m                 \u001b[38;5;124mf\u001b[39m\u001b[38;5;124m\"\u001b[39m\u001b[38;5;124mof input shape to have value \u001b[39m\u001b[38;5;132;01m{\u001b[39;00mvalue\u001b[38;5;132;01m}\u001b[39;00m\u001b[38;5;124m, \u001b[39m\u001b[38;5;124m\"\u001b[39m\n\u001b[0;32m    231\u001b[0m                 \u001b[38;5;124m\"\u001b[39m\u001b[38;5;124mbut received input with \u001b[39m\u001b[38;5;124m\"\u001b[39m\n\u001b[0;32m    232\u001b[0m                 \u001b[38;5;124mf\u001b[39m\u001b[38;5;124m\"\u001b[39m\u001b[38;5;124mshape \u001b[39m\u001b[38;5;132;01m{\u001b[39;00mshape\u001b[38;5;132;01m}\u001b[39;00m\u001b[38;5;124m\"\u001b[39m\n\u001b[0;32m    233\u001b[0m             )\n\u001b[0;32m    234\u001b[0m \u001b[38;5;66;03m# Check shape.\u001b[39;00m\n\u001b[0;32m    235\u001b[0m \u001b[38;5;28;01mif\u001b[39;00m spec\u001b[38;5;241m.\u001b[39mshape \u001b[38;5;129;01mis\u001b[39;00m \u001b[38;5;129;01mnot\u001b[39;00m \u001b[38;5;28;01mNone\u001b[39;00m:\n",
      "\u001b[1;31mValueError\u001b[0m: Exception encountered when calling Sequential.call().\n\n\u001b[1mInput 0 of layer \"dense_1\" is incompatible with the layer: expected axis -1 of input shape to have value 6272, but received input with shape (1, 93312)\u001b[0m\n\nArguments received by Sequential.call():\n  • inputs=tf.Tensor(shape=(1, 224, 224, 3), dtype=float32)\n  • training=False\n  • mask=None"
     ]
    }
   ],
   "source": [
    "import numpy as np\n",
    "from keras.preprocessing import image\n",
    "test_image = image.load_img(\"C:/Users/Admin/Desktop/streamlit/testing/1.jpg\", target_size = (224, 224))\n",
    "test_image = image.img_to_array(test_image)\n",
    "test_image = np.expand_dims(test_image, axis = 0)\n",
    "result = cnn.predict(test_image)\n",
    "training_set.class_indices\n",
    "# print(result)\n",
    "# Assuming you have your prediction vector from the CNN model\n",
    "prediction = result  # Your prediction vector with probabilities for each category\n",
    "categories = l2   # Your list of category labels\n",
    "\n",
    "# Find the index of the category with the highest probability\n",
    "predicted_category_index = np.argmax(prediction)\n",
    "\n",
    "# Get the label of the predicted category\n",
    "predicted_category = categories[predicted_category_index]\n",
    "\n",
    "print(\"Predicted category:\", predicted_category)\n",
    "\n",
    "\n",
    "\n",
    "# \"C:\\Users\\2811y\\OneDrive\\Desktop\\testing\\download (1).jpeg\""
   ]
  },
  {
   "cell_type": "code",
   "execution_count": 11,
   "id": "013e8a1c",
   "metadata": {},
   "outputs": [],
   "source": [
    "df=pd.read_csv(\"artists.csv\")\n",
    "l1=df['name'].tolist()"
   ]
  },
  {
   "cell_type": "code",
   "execution_count": 21,
   "id": "e14d65e4",
   "metadata": {},
   "outputs": [],
   "source": [
    "# l1\n",
    "l2=['Albrecht_Du╠êrer','Albrecht_DuΓòá├¬rer','Alfred_Sisley'\n",
    "   ,'Amedeo_Modigliani','Andrei_Rublev','Andy_Warhol',\n",
    "   'Camille_Pissarro','Caravaggio','Claude_Monet',\n",
    "    'Diego_Rivera','Diego_Velazquez','Edgar_Degas','Edouard_Manet'\n",
    "   ,'Edvard_Munch','El_Greco','Eugene_Delacroix','Francisco_Goya','Frida_Kahlo'\n",
    "   ,'Georges_Seurat','Giotto_di_Bondone','Gustav_Klimt','Gustave_Courbet','Henri_de_Toulouse-Lautrec'\n",
    "   ,'Henri_Matisse','Henri_Rousseau','Hieronymus_Bosch','Jackson_Pollock','Jan_van_Eyck','Paul_Gauguin'\n",
    "   ,'Joan_Miro','Kazimir_Malevich','Leonardo_da_Vinci','Marc_Chagall','Michelangelo','Mikhail_Vrubel','Pablo_Picasso','Paul_Cezanne','Paul_Klee'\n",
    "   ,'Peter_Paul_Rubens','Pierre-Auguste_Renoir','Piet_Mondrian','Pieter_Bruegel','Raphael','Rembrandt','Rene_Magritte','Salvador_Dali','Sandro_Botticelli','Titian','Vasiliy_Kandinskiy','Vincent_van_Gogh','William_Turner']"
   ]
  },
  {
   "cell_type": "code",
   "execution_count": null,
   "id": "8487e768",
   "metadata": {},
   "outputs": [],
   "source": []
  },
  {
   "cell_type": "code",
   "execution_count": null,
   "id": "1e1e2577",
   "metadata": {},
   "outputs": [],
   "source": []
  },
  {
   "cell_type": "code",
   "execution_count": null,
   "id": "d9bfd72b",
   "metadata": {},
   "outputs": [],
   "source": []
  }
 ],
 "metadata": {
  "kernelspec": {
   "display_name": "Python 3 (ipykernel)",
   "language": "python",
   "name": "python3"
  },
  "language_info": {
   "codemirror_mode": {
    "name": "ipython",
    "version": 3
   },
   "file_extension": ".py",
   "mimetype": "text/x-python",
   "name": "python",
   "nbconvert_exporter": "python",
   "pygments_lexer": "ipython3",
   "version": "3.8.10"
  }
 },
 "nbformat": 4,
 "nbformat_minor": 5
}
