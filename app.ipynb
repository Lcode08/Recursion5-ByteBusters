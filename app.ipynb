{
 "cells": [
  {
   "cell_type": "code",
   "execution_count": 1,
   "id": "39c35f15-9d91-46c0-8f5d-10cf814b13e5",
   "metadata": {},
   "outputs": [],
   "source": [
    "import streamlit as st\n"
   ]
  },
  {
   "cell_type": "code",
   "execution_count": 2,
   "id": "bb687f9d-daae-40cb-b2d0-d1b408e88464",
   "metadata": {},
   "outputs": [
    {
     "name": "stderr",
     "output_type": "stream",
     "text": [
      "2024-03-13 19:23:20.637 \n",
      "  \u001b[33m\u001b[1mWarning:\u001b[0m to view this Streamlit app on a browser, run it with the following\n",
      "  command:\n",
      "\n",
      "    streamlit run C:\\Users\\Admin\\AppData\\Local\\Programs\\Python\\Python312\\Lib\\site-packages\\ipykernel_launcher.py [ARGUMENTS]\n"
     ]
    },
    {
     "data": {
      "text/plain": [
       "DeltaGenerator()"
      ]
     },
     "execution_count": 2,
     "metadata": {},
     "output_type": "execute_result"
    }
   ],
   "source": [
    "\n",
    "html_code = \"\"\"\n",
    "\n",
    "<!DOCTYPE html>\n",
    "<html lang=\"en\">\n",
    "<head>\n",
    "    <meta charset=\"UTF-8\">\n",
    "    <meta name=\"viewport\" content=\"width=device-width, initial-scale=1.0\">\n",
    "    <title>Home</title>\n",
    "\n",
    "    <style>\n",
    "        * {\n",
    "    padding: 0;\n",
    "    margin: 0;\n",
    "    box-sizing: border-box;\n",
    "}\n",
    "\n",
    "header {\n",
    "    width: 100%;\n",
    "    height: 100vh;\n",
    "    background: linear-gradient(rgba(0, 0, 0, 0.8), rgba(0, 0, 0, 0.2)), url(bg1.jpg);\n",
    "    background-size: cover;\n",
    "    font-family: sans-serif;\n",
    "}\n",
    "\n",
    "nav {\n",
    "    width: 100%;\n",
    "    height: 100px;\n",
    "    color: white;\n",
    "    display: flex;\n",
    "    justify-content: space-around;\n",
    "    align-items: center;\n",
    "}\n",
    "\n",
    ".logo {\n",
    "    font-size: 2em;\n",
    "    letter-spacing: 2px;\n",
    "}\n",
    "\n",
    ".menu a {\n",
    "    text-decoration: none;\n",
    "    color: white;\n",
    "    padding: 10px 20px;\n",
    "    font-size: 20px;\n",
    "    position: relative;\n",
    "}\n",
    "\n",
    ".menu a:before {\n",
    "    content: '';\n",
    "    position: absolute;\n",
    "    top: 0;\n",
    "    left: 0;\n",
    "    width: 0%;\n",
    "    height: 100%;\n",
    "    border-bottom: 2px solid indianred;\n",
    "    transition: 0.4s linear;\n",
    "}\n",
    "\n",
    ".menu a:hover:before {\n",
    "    width: 100%;\n",
    "}\n",
    "\n",
    ".register a {\n",
    "    text-decoration: none;\n",
    "    color: white;\n",
    "    padding: 10px 20px;\n",
    "    font-size: 20px;\n",
    "    background: indianred;\n",
    "    border-radius: 8px;\n",
    "    transition: 0.4s ;\n",
    "}\n",
    "\n",
    ".register a:hover {\n",
    "    background: transparent;\n",
    "    border: 1px solid indianred;\n",
    "}\n",
    "\n",
    ".inp {\n",
    "    text-align: center;\n",
    "    font-size: 30px;\n",
    "    width: 500px;\n",
    "    height: 100px;\n",
    "}\n",
    "\n",
    "#file {\n",
    "    margin-left: 6rem;\n",
    "    scale: 1.2;\n",
    "}\n",
    "\n",
    ".h-txt {\n",
    "    max-width: 650px;\n",
    "    position: absolute;\n",
    "    top: 50%;\n",
    "    left: 50%;\n",
    "    transform: translate(-50%,-50%);\n",
    "    text-align: center;\n",
    "    color: white;\n",
    "}\n",
    "\n",
    ".h-txt span {\n",
    "    letter-spacing: 5px;\n",
    "}\n",
    "\n",
    ".h-txt h1 {\n",
    "    font-size: 3.5em;\n",
    "}\n",
    "\n",
    ".h-txt a {\n",
    "    text-decoration: none;\n",
    "    background-color: indianred;\n",
    "    color: white;\n",
    "    padding: 10px 20px;\n",
    "    letter-spacing: 5px;\n",
    "    transition: 0.4s;\n",
    "}\n",
    "\n",
    ".h-txt a:hover {\n",
    "    background: transparent;\n",
    "    border: 1px solid indianred;\n",
    "}\n",
    "    </style>\n",
    "\n",
    "</head>\n",
    "<body>\n",
    "\n",
    "    <header>\n",
    "        <nav>\n",
    "            <div class=\"logo\">\n",
    "                Virtual Museum Guide\n",
    "            </div>\n",
    "\n",
    "        \n",
    "        </nav>\n",
    "\n",
    "        <div class=\"main-sec\">\n",
    "            <div class=\"h-txt\">\n",
    "\n",
    "                <form method=\"post\" enctype=\"multipart/form-data\">\n",
    "                    <div class=\"inp\">\n",
    "                      <label for=\"file\">Choose file to upload <br></label>\n",
    "                      <input type=\"file\" id=\"file\" name=\"file\" multiple />\n",
    "                    </div>\n",
    "                  </form>\n",
    "    \n",
    "                <br>\n",
    "                <a href=\"#\">Generate Information</a>\n",
    "                </div>\n",
    "        </div>\n",
    "        \n",
    "    </header>\n",
    "</body>\n",
    "</html>\n",
    "\n",
    "\"\"\"\n",
    "\n",
    "st.markdown(html_code, unsafe_allow_html=True)"
   ]
  },
  {
   "cell_type": "code",
   "execution_count": 4,
   "id": "0bf358d7-2e2c-4500-9a4f-a7c783e943ae",
   "metadata": {},
   "outputs": [
    {
     "name": "stdout",
     "output_type": "stream",
     "text": [
      "The streamlit module is not an IPython extension.\n"
     ]
    }
   ],
   "source": [
    "%load_ext streamlit\n",
    "\n"
   ]
  },
  {
   "cell_type": "code",
   "execution_count": 6,
   "id": "f9c799c4-be23-46f3-9951-eb6d7ec88007",
   "metadata": {},
   "outputs": [
    {
     "name": "stderr",
     "output_type": "stream",
     "text": [
      "UsageError: Line magic function `%streamlit` not found.\n"
     ]
    }
   ],
   "source": [
    "%streamlit run app.ipynb\n"
   ]
  }
 ],
 "metadata": {
  "kernelspec": {
   "display_name": "Python 3 (ipykernel)",
   "language": "python",
   "name": "python3"
  },
  "language_info": {
   "codemirror_mode": {
    "name": "ipython",
    "version": 3
   },
   "file_extension": ".py",
   "mimetype": "text/x-python",
   "name": "python",
   "nbconvert_exporter": "python",
   "pygments_lexer": "ipython3",
   "version": "3.12.2"
  }
 },
 "nbformat": 4,
 "nbformat_minor": 5
}
